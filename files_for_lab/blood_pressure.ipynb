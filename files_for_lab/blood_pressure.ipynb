{
 "cells": [
  {
   "cell_type": "markdown",
   "metadata": {},
   "source": [
    "### Instructions\n",
    "\n",
    "1. It is assumed that the mean systolic blood pressure is `μ = 120 mm Hg`. In the Honolulu Heart Study, a sample of `n = 100` people had an average systolic blood pressure of 130.1 mm Hg with a standard deviation of 21.21 mm Hg. Is the group significantly different (with respect to systolic blood pressure!) from the regular population?\n",
    "\n",
    "   - Set up the hypothesis test.\n",
    "   - Write down all the steps followed for setting up the test.\n",
    "   - Calculate the test statistic by hand and also code it in Python. It should be 4.76190. We will take a look at how to make decisions based on this calculated value.\n"
   ]
  },
  {
   "cell_type": "markdown",
   "metadata": {},
   "source": [
    "H0 = The mean systolic blood pressure is `120mm Hg`\n",
    "\n",
    "H1 = The mean styolic blood pressure is `130.1 mm Hg`\n",
    "\n",
    "n = `100`\n",
    "\n",
    "s = `21.21 mm Hg`\n",
    "\n"
   ]
  },
  {
   "cell_type": "code",
   "execution_count": 14,
   "metadata": {},
   "outputs": [
    {
     "name": "stdout",
     "output_type": "stream",
     "text": [
      "t_statistic -4.761904761904759\n",
      "p_value 6.562701817208617e-06\n",
      "We have a 95% Confidence Level to Reject the H0 Hypothesis\n"
     ]
    }
   ],
   "source": [
    "import math\n",
    "from scipy.stats import t\n",
    "\n",
    "\n",
    "X = 120\n",
    "mu = 130.1\n",
    "n = 100\n",
    "s = 21.21\n",
    "\n",
    "t_statistic = (X - mu) / (s / math.sqrt(n))\n",
    "print(\"t_statistic\", t_statistic)\n",
    "\n",
    "p_value = p_value = 2 * t.sf(abs(t_statistic), n - 1)\n",
    "print(\"p_value\", p_value)\n",
    "\n",
    "if p_value < 0.05:\n",
    "    print(\"We have a 95% Confidence Level to Reject the H0 Hypothesis\")\n",
    "else:\n",
    "    print(\"We don't have enough evidence to reject the H0 Hypothesis\")\n"
   ]
  }
 ],
 "metadata": {
  "kernelspec": {
   "display_name": ".venv",
   "language": "python",
   "name": "python3"
  },
  "language_info": {
   "codemirror_mode": {
    "name": "ipython",
    "version": 3
   },
   "file_extension": ".py",
   "mimetype": "text/x-python",
   "name": "python",
   "nbconvert_exporter": "python",
   "pygments_lexer": "ipython3",
   "version": "3.13.2"
  }
 },
 "nbformat": 4,
 "nbformat_minor": 2
}
